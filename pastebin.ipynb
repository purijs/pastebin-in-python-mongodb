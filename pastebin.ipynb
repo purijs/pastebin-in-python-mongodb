{
 "cells": [
  {
   "cell_type": "code",
   "execution_count": 1,
   "metadata": {
    "collapsed": false
   },
   "outputs": [],
   "source": [
    "#store text\n",
    "#expire duration in seconds\n",
    "\n",
    "import ipywidgets as widget\n",
    "from IPython.display import display\n",
    "from pymongo import MongoClient\n",
    "from threading import Timer\n",
    "from bson.objectid import ObjectId\n",
    "import random"
   ]
  },
  {
   "cell_type": "code",
   "execution_count": 4,
   "metadata": {
    "collapsed": false
   },
   "outputs": [
    {
     "name": "stdout",
     "output_type": "stream",
     "text": [
      "\n"
     ]
    }
   ],
   "source": [
    "client = MongoClient()\n",
    "db=client.pastebin\n",
    "inject=db.data\n",
    "    \n",
    "def process_fetch_bin(value):\n",
    "    try:\n",
    "        user_data=inject.find_one({\"data_id\":int(pastebin_fetch.value)},{\"content\":1,\"_id\":0})\n",
    "        print \"Your Data:\",user_data.get('content')\n",
    "    except:\n",
    "        print \"Your data seems to be deleted!\"\n",
    "    \n",
    "def process_bin(value): \n",
    "    \n",
    "    data_id=random.randint(0,99)\n",
    "    _id=inject.insert_one({'content':str(pastebin.value)})\n",
    "    _id=_id.inserted_id\n",
    "    \n",
    "    print \"Stored:\",pastebin.value\n",
    "    print \"Search Using ID:\",data_id\n",
    "    print \"Will expire in\",pastebin_duration.value,\"seconds!\"\n",
    "    \n",
    "    if pastebin_duration>=0:\n",
    "        inject.update_one({\"_id\":_id},{'$set':{'expires_in':pastebin_duration.value,'data_id':data_id}})\n",
    "        \n",
    "        call_expire = Timer(float(pastebin_duration.value), lambda: expire_data(_id))\n",
    "        call_expire.start()\n",
    "    \n",
    "def expire_data(d_id):\n",
    "    print \"Your data has been removed\"\n",
    "    inject.delete_one({'_id':d_id})\n",
    "    #'_id': ObjectId(_id)\n"
   ]
  },
  {
   "cell_type": "code",
   "execution_count": 5,
   "metadata": {
    "collapsed": false
   },
   "outputs": [
    {
     "name": "stdout",
     "output_type": "stream",
     "text": [
      "Stored: mr puri\n",
      "Search Using ID: 14\n",
      "Will expire in 15 seconds!\n",
      "Your Data: mr puri\n",
      "Your Data: mr puri\n",
      "Your data has been removed\n",
      "Your Data: Your data seems to be deleted!\n",
      "Your Data: Your data seems to be deleted!\n"
     ]
    }
   ],
   "source": [
    "pastebin=widget.Text()\n",
    "caption_1=widget.Label(value=\"Text to store\");\n",
    "display(caption_1)\n",
    "display(pastebin)\n",
    "\n",
    "pastebin_duration=widget.Text()\n",
    "caption_2=widget.Label(value=\"Expires in (sec)\");\n",
    "display(caption_2)\n",
    "display(pastebin_duration)\n",
    "\n",
    "pastebin_go=widget.Button(description='Store')\n",
    "display(pastebin_go)\n",
    "pastebin_go.on_click(process_bin)\n",
    "\n",
    "pastebin_fetch=widget.Text()\n",
    "caption_3=widget.Label(value=\"Enter ID to get Data\");\n",
    "display(caption_3)\n",
    "display(pastebin_fetch)\n",
    "\n",
    "pastebin_fetch_go=widget.Button(description='Get')\n",
    "display(pastebin_fetch_go)\n",
    "pastebin_fetch_go.on_click(process_fetch_bin)"
   ]
  },
  {
   "cell_type": "code",
   "execution_count": null,
   "metadata": {
    "collapsed": true
   },
   "outputs": [],
   "source": []
  }
 ],
 "metadata": {
  "kernelspec": {
   "display_name": "Python 2",
   "language": "python",
   "name": "python2"
  },
  "language_info": {
   "codemirror_mode": {
    "name": "ipython",
    "version": 2
   },
   "file_extension": ".py",
   "mimetype": "text/x-python",
   "name": "python",
   "nbconvert_exporter": "python",
   "pygments_lexer": "ipython2",
   "version": "2.7.13"
  },
  "widgets": {
   "state": {
    "023587a87acb4863aacb583f00ed6c13": {
     "views": [
      {
       "cell_index": 2
      }
     ]
    },
    "0473ccf5a5a648db9931642817e7fcca": {
     "views": [
      {
       "cell_index": 2
      }
     ]
    },
    "08a0e694f4c747c481e94897b31e523b": {
     "views": [
      {
       "cell_index": 2
      }
     ]
    },
    "0a64c6905984461d8837b33e4570b1d0": {
     "views": [
      {
       "cell_index": 2
      }
     ]
    },
    "0bea9c47e2d744748f273248e2c571f7": {
     "views": [
      {
       "cell_index": 2
      }
     ]
    },
    "1088a653583749a6b09779f013b08df0": {
     "views": [
      {
       "cell_index": 2
      }
     ]
    },
    "109a9f77991c4874abbb008cec3389ed": {
     "views": [
      {
       "cell_index": 2
      }
     ]
    },
    "1454df215e13400f95d0ab86bd170ba0": {
     "views": [
      {
       "cell_index": 2
      }
     ]
    },
    "1600dd8ad8a849ca91479a61418e53a7": {
     "views": [
      {
       "cell_index": 2
      }
     ]
    },
    "1a49a55c66d84bb6892df296e9fdf1af": {
     "views": [
      {
       "cell_index": 2
      }
     ]
    },
    "1b443decb6fa4c5b8342e8630b897d3e": {
     "views": [
      {
       "cell_index": 2
      }
     ]
    },
    "1d033932a4304bd29f86401da3ac7751": {
     "views": [
      {
       "cell_index": 2
      }
     ]
    },
    "216714d6b2384fbd959e48ab920fd63d": {
     "views": [
      {
       "cell_index": 2
      }
     ]
    },
    "23a92b6303724f03bfe00d3618ebb802": {
     "views": [
      {
       "cell_index": 2
      }
     ]
    },
    "2685fae3ba964a8db3b6de4278d81f30": {
     "views": [
      {
       "cell_index": 2
      }
     ]
    },
    "286fb7a020754e979849ac641e34eaa9": {
     "views": [
      {
       "cell_index": 2
      }
     ]
    },
    "2b0db3d79c7e436a9af934ad427e2026": {
     "views": [
      {
       "cell_index": 2
      }
     ]
    },
    "2bec3eaafdda4c46b9ac5b32d161776b": {
     "views": [
      {
       "cell_index": 2
      }
     ]
    },
    "2cd6146af0204ff8a1fdc4bb6381184b": {
     "views": [
      {
       "cell_index": 2
      }
     ]
    },
    "30c3e120313c40c691fcbf74ecf92d25": {
     "views": [
      {
       "cell_index": 2
      }
     ]
    },
    "3248bb70a5f7494ea3a4b078e4772ddf": {
     "views": [
      {
       "cell_index": 2
      }
     ]
    },
    "422afeadbb4a476cb8967d7ea83d4d72": {
     "views": [
      {
       "cell_index": 2
      }
     ]
    },
    "45a60da74f374ad9ab11c51232832029": {
     "views": [
      {
       "cell_index": 2
      }
     ]
    },
    "4ab1cc816dde4505abffde3eab356567": {
     "views": [
      {
       "cell_index": 2
      }
     ]
    },
    "4e59921f34d84f5d97f4d5403554d916": {
     "views": [
      {
       "cell_index": 2
      }
     ]
    },
    "5076645d077e42ee9d1afc87555fa23e": {
     "views": [
      {
       "cell_index": 2
      }
     ]
    },
    "53c3c09d1bdf481293891105b262b631": {
     "views": [
      {
       "cell_index": 2
      }
     ]
    },
    "547e529e09534ad0be4541facf80e1b6": {
     "views": [
      {
       "cell_index": 2
      }
     ]
    },
    "54f51ca0b0b54c88924713d65cec7405": {
     "views": [
      {
       "cell_index": 2
      }
     ]
    },
    "58460519454a4b8d9a4c62751cc4a275": {
     "views": [
      {
       "cell_index": 2
      }
     ]
    },
    "591d90c5091948548bb17f88bb0b1a22": {
     "views": [
      {
       "cell_index": 2
      }
     ]
    },
    "59621974e9d54965902deed1c5ca1228": {
     "views": [
      {
       "cell_index": 2
      }
     ]
    },
    "59d4daf1a44c488ab136e72572cd99cb": {
     "views": [
      {
       "cell_index": 2
      }
     ]
    },
    "5be0f4324e5748e69be7f3d476a3f62d": {
     "views": [
      {
       "cell_index": 2
      }
     ]
    },
    "5c962cc2bf6a4307b8100012d7b636a6": {
     "views": [
      {
       "cell_index": 2
      }
     ]
    },
    "5c9866cd6968437f96858936eee29a41": {
     "views": [
      {
       "cell_index": 2
      }
     ]
    },
    "612c05a8205546c796b0353e2fd211fb": {
     "views": [
      {
       "cell_index": 2
      }
     ]
    },
    "61fe80cbd27844ddb01ac8a42196a4db": {
     "views": [
      {
       "cell_index": 2
      }
     ]
    },
    "6349f871968b47ccb98678f1baa1e431": {
     "views": [
      {
       "cell_index": 2
      }
     ]
    },
    "67fe8f935f7a40ed9ca3fbc29bee7893": {
     "views": [
      {
       "cell_index": 2
      }
     ]
    },
    "6933e4e5739f4c2ab7cdda1c1bc62bbd": {
     "views": [
      {
       "cell_index": 2
      }
     ]
    },
    "6d616ea744e24f4a8524ba03fede6614": {
     "views": [
      {
       "cell_index": 2
      }
     ]
    },
    "712697bb6bd0455e90c77abbf990d69e": {
     "views": [
      {
       "cell_index": 2
      }
     ]
    },
    "7204653fee6f492b8e9c95f674e0a75e": {
     "views": [
      {
       "cell_index": 2
      }
     ]
    },
    "75f7ea8239c14d5ca4bb6b68dfb0c35e": {
     "views": [
      {
       "cell_index": 2
      }
     ]
    },
    "787c6c3e94084f49a7c76d69222a2ece": {
     "views": [
      {
       "cell_index": 2
      }
     ]
    },
    "799dde918b4b47f0b9522c240a33e932": {
     "views": [
      {
       "cell_index": 2
      }
     ]
    },
    "7a961bd9919540cc95c90ae945c539b4": {
     "views": [
      {
       "cell_index": 2
      }
     ]
    },
    "7baf444863904aa4a6d1f9fc2c060cd9": {
     "views": [
      {
       "cell_index": 2
      }
     ]
    },
    "7c787c5827f6499d9d069ab614c45b74": {
     "views": [
      {
       "cell_index": 2
      }
     ]
    },
    "8110e6f2d7524b4984e3b6ea6fc2e8f6": {
     "views": [
      {
       "cell_index": 2
      }
     ]
    },
    "82d27cc468a14c5e8aad61021c9c4df5": {
     "views": [
      {
       "cell_index": 2
      }
     ]
    },
    "84d2c2edbcbb4495bd3d810e7848ba25": {
     "views": [
      {
       "cell_index": 2
      }
     ]
    },
    "84db62f8ed54454ea9645e5d23ac3144": {
     "views": [
      {
       "cell_index": 2
      }
     ]
    },
    "85c2294cdd7245fbac69fb3cda9b90e0": {
     "views": [
      {
       "cell_index": 2
      }
     ]
    },
    "975264f8f58d4de4963510aa507c50ad": {
     "views": [
      {
       "cell_index": 2
      }
     ]
    },
    "979f96ad619143a1ae0f3bfd5f83c3bf": {
     "views": [
      {
       "cell_index": 2
      }
     ]
    },
    "99a0813e2d29416aa2fd45f454710292": {
     "views": [
      {
       "cell_index": 2
      }
     ]
    },
    "9c32a364d1a14434902cac727c3a5ed4": {
     "views": [
      {
       "cell_index": 2
      }
     ]
    },
    "a15fad785fee47a982bf2fc0ded250a4": {
     "views": [
      {
       "cell_index": 2
      }
     ]
    },
    "a2485045f2e14d879add09387a5ea1ff": {
     "views": [
      {
       "cell_index": 2
      }
     ]
    },
    "b180b7dccff44f77ba1b600c258101a3": {
     "views": [
      {
       "cell_index": 2
      }
     ]
    },
    "b23587f57aa8403c9ec9ee3da3ab029e": {
     "views": [
      {
       "cell_index": 2
      }
     ]
    },
    "b242f51eb2e54a088080b48cbeee6805": {
     "views": [
      {
       "cell_index": 2
      }
     ]
    },
    "b3a2127fc98a42b69ba1f231f954aea4": {
     "views": [
      {
       "cell_index": 2
      }
     ]
    },
    "b55be24465544eb194fc5b725febe8d7": {
     "views": [
      {
       "cell_index": 2
      }
     ]
    },
    "b571a3a507e344f4a077e070a9609ffb": {
     "views": [
      {
       "cell_index": 2
      }
     ]
    },
    "ba7caaf010d44f7c9d7cb9c0afdbe703": {
     "views": [
      {
       "cell_index": 2
      }
     ]
    },
    "bdea964f3b764b6fac144bac8b89b451": {
     "views": [
      {
       "cell_index": 2
      }
     ]
    },
    "c445429267354ed2900abe7cd857d6dd": {
     "views": [
      {
       "cell_index": 2
      }
     ]
    },
    "c878c01c61b748f6aade2a78dd169031": {
     "views": [
      {
       "cell_index": 2
      }
     ]
    },
    "cad5e8dde5e74d3e90b82fe65e881cd9": {
     "views": [
      {
       "cell_index": 2
      }
     ]
    },
    "cb582b430901416e9702f42280deed47": {
     "views": [
      {
       "cell_index": 2
      }
     ]
    },
    "ce0042a510d84576846c7654a8d60311": {
     "views": [
      {
       "cell_index": 2
      }
     ]
    },
    "cf46647c786940cea493f48f6dd44ead": {
     "views": [
      {
       "cell_index": 2
      }
     ]
    },
    "cf96b121cbe3433396c96ba796794aab": {
     "views": [
      {
       "cell_index": 2
      }
     ]
    },
    "d4a194e2c6c34a75a02787939634fba8": {
     "views": [
      {
       "cell_index": 2
      }
     ]
    },
    "d50c47b6c3b943859b8cdc93c487439f": {
     "views": [
      {
       "cell_index": 2
      }
     ]
    },
    "d58d1de7285642ad82ac505f5f726af3": {
     "views": [
      {
       "cell_index": 2
      }
     ]
    },
    "d74156507f284359b3a10ec03e0823a5": {
     "views": [
      {
       "cell_index": 2
      }
     ]
    },
    "dcb4b4670d4f4f0289453ab0867714c4": {
     "views": [
      {
       "cell_index": 2
      }
     ]
    },
    "ddb36372c70d4d94a7ba22571001e50b": {
     "views": [
      {
       "cell_index": 2
      }
     ]
    },
    "de08801df1674bf6825a9a3346791d05": {
     "views": [
      {
       "cell_index": 2
      }
     ]
    },
    "e0237c5436664a82948933d98761e4a8": {
     "views": [
      {
       "cell_index": 2
      }
     ]
    },
    "e2bdeaa0173b4ffd9d6164bf690e8815": {
     "views": [
      {
       "cell_index": 2
      }
     ]
    },
    "e3b9b33ed9d84291a6c93b2574a00173": {
     "views": [
      {
       "cell_index": 2
      }
     ]
    },
    "e4d89f4c91964bd589f7cf38df3a439b": {
     "views": [
      {
       "cell_index": 2
      }
     ]
    },
    "e61a3fcc35a4478ab957c42dee55b964": {
     "views": [
      {
       "cell_index": 2
      }
     ]
    },
    "ea7cc99d49164c4b93e9db4a05b71e8e": {
     "views": [
      {
       "cell_index": 2
      }
     ]
    },
    "eae3657028be481fa33cb22b6d885cc6": {
     "views": [
      {
       "cell_index": 2
      }
     ]
    },
    "ee10a1d9eb034ca7b1969e86ce7b66eb": {
     "views": [
      {
       "cell_index": 2
      }
     ]
    },
    "efbbcf1860e0487db3c432269b3f1e4d": {
     "views": [
      {
       "cell_index": 2
      }
     ]
    },
    "f14e626d18d040bca6c15fc12f6bcac1": {
     "views": [
      {
       "cell_index": 2
      }
     ]
    },
    "f36ff6f72bf34f96a62089b0601d9a15": {
     "views": [
      {
       "cell_index": 2
      }
     ]
    },
    "f3f632a9051344ae8b31b885fc4559cd": {
     "views": [
      {
       "cell_index": 2
      }
     ]
    },
    "f766f0b89d254af997e2416a4f2473ab": {
     "views": [
      {
       "cell_index": 2
      }
     ]
    },
    "fd5f1f7cd1b24b05bab338ca1895e1fa": {
     "views": [
      {
       "cell_index": 2
      }
     ]
    },
    "ff99dbbc097b4b00833d84a4ec06ac5b": {
     "views": [
      {
       "cell_index": 2
      }
     ]
    }
   },
   "version": "1.2.0"
  }
 },
 "nbformat": 4,
 "nbformat_minor": 2
}
